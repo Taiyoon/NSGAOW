{
 "cells": [
  {
   "cell_type": "code",
   "execution_count": null,
   "metadata": {},
   "outputs": [],
   "source": [
    "import lzma\n",
    "from typing import Dict, Tuple\n",
    "import numpy as np\n",
    "import pandas as pd\n",
    "import gzip\n",
    "\n",
    "def perf_data_preprocess(file_path: str) -> Dict[str, pd.DataFrame]:\n",
    "    # idk why warn me, but code runs smoothly\n",
    "    # supress warning does not work\n",
    "    # with gzip.open(file_path, 'r') as f:\n",
    "    with lzma.open(file_path, 'r') as f:\n",
    "        temp = pd.read_table(f, sep='\\s\\s+', header=None).drop(columns=[0, 5])\n",
    "    temp[1] = temp[1].apply(lambda s: s.split(' ')[1][1: -1]).astype(np.uint8)\n",
    "    temp.rename(columns={1: 'Cpu', 2: 'Time'}, inplace=True)\n",
    "\n",
    "    ans = [v.drop(columns=4) for _, v in temp.groupby(4, dropna=False)]\n",
    "    del temp, f\n",
    "    t = ans[-1]\n",
    "    ans.append(t[t[3].isna()].drop(columns=3))\n",
    "    ans[2] = t[~(t[3].isna())]\n",
    "    ans[3] = pd.concat([ans[3].Cpu, \n",
    "                        ans[3].Time\n",
    "                            .str.split(expand=True)\n",
    "                            .drop(columns=[1,2,3,5])], axis=1)\\\n",
    "                .rename(columns={0: 'Time', 4: 'Load'})\n",
    "    ans[2] = pd.concat([ans[2].Cpu, ans[2].Time,\n",
    "                        ans[2][3].str.split(expand=True).drop(columns=[0,1,2])]\n",
    "                    ,axis=1)\n",
    "\n",
    "    for t in ans[:3]:\n",
    "        t.rename(columns={3: 'Load'}, inplace=True)\n",
    "    for t in ans[2:]:\n",
    "        t.Load = t.Load.str[4:].astype(np.uint32)\n",
    "    min_time = 1e100\n",
    "    for t in ans:\n",
    "        t.Time = t.Time.str[:-1].astype(np.float64)\n",
    "        min_time = min(min_time, t.Time.min())\n",
    "    for t in ans:\n",
    "        t.Time -= min_time\n",
    "    for t in ans[:2]:\n",
    "        t.Load = t.Load.astype(np.uint32)\n",
    "        \n",
    "    table_name = ['Cycles', 'Instructions', 'Net_dev_xmit', 'Netif_rx']\n",
    "    return dict(zip(table_name, ans))\n",
    "\n",
    "data = perf_data_preprocess('./aes_test.perf.data.txt.xz')\n",
    "\n",
    "max_time = max(v.Time.max() for v in data.values())"
   ]
  },
  {
   "cell_type": "markdown",
   "metadata": {},
   "source": [
    "记录隐私计算库ABY AES加密任务服务器端的perf data，调用方法为:\n",
    "```bash\n",
    "sudo perf record -e cycles,instructions,net:net_dev_xmit,net:netif_rx \n",
    "    -- ./aes_test -r 0 -n 1000 &&\n",
    "sudo perf script | gzip aes_test.perf.data.txt.gz\n",
    "```\n",
    "由于时间难以对齐，客户端是直接启动的:\n",
    "```bash\n",
    "./aes_test -r 1 -n 1000\n",
    "```\n",
    "\n",
    "获得人类可读的perf.data，处理并画出随时间变化的直方图:\n",
    "|进程名|PID[CPU]|时间|计数|事件|触发函数名|\n",
    "|-|-|-|-|-|-|\n",
    "(data内容略)"
   ]
  },
  {
   "cell_type": "code",
   "execution_count": null,
   "metadata": {},
   "outputs": [],
   "source": [
    "from matplotlib import pyplot as plt\n",
    "\n",
    "BIN_SIZE = 50\n",
    "\n",
    "t = data['Cycles']\n",
    "num_c, bin_c = np.histogram(t.Time,\n",
    "             np.linspace(0, max_time, BIN_SIZE),\n",
    "             weights=t.Load)\n",
    "\n",
    "t = data['Instructions']\n",
    "num_i, bin_i = np.histogram(t.Time,\n",
    "             np.linspace(0, max_time, BIN_SIZE),\n",
    "             weights=t.Load)\n",
    "\n",
    "t = data['Netif_rx']\n",
    "num_rx, bin_rx = np.histogram(t.Time,\n",
    "                    np.linspace(0, max_time, BIN_SIZE),\n",
    "                    weights=t.Load)\n",
    "\n",
    "t = data['Net_dev_xmit']\n",
    "num_tx, bin_tx = np.histogram(t.Time,\n",
    "                    np.linspace(0, max_time, BIN_SIZE),\n",
    "                    weights=t.Load)\n",
    "\n",
    "corr = np.correlate(num_i, num_c, 'full')\n",
    "\n",
    "fig, axs = plt.subplots(4, sharex=True)\n",
    "axs[0].stairs(num_c, bin_c, label='cycles')\n",
    "axs[1].stairs(num_i, bin_c, label='instructions')\n",
    "axs[2].stairs(num_rx, bin_c, label='rx(bytes)')\n",
    "axs[3].stairs(num_tx, bin_c, label='tx(bytes)')\n",
    "\n",
    "axs[3].set_xlabel('time(s)')\n",
    "axs[0].set_title('aes_test(n=1000)')\n",
    "for ax in axs:\n",
    "    ax.get_yaxis().set_visible(False)\n",
    "    ax.legend()\n",
    "# plt.plot(corr)"
   ]
  },
  {
   "cell_type": "code",
   "execution_count": null,
   "metadata": {},
   "outputs": [],
   "source": [
    "plt.plot(num_rx[:-1]-num_rx[1:])"
   ]
  },
  {
   "cell_type": "code",
   "execution_count": null,
   "metadata": {},
   "outputs": [],
   "source": [
    "2103144/(max_time/1000)/1024/1024/1024"
   ]
  },
  {
   "cell_type": "code",
   "execution_count": null,
   "metadata": {},
   "outputs": [],
   "source": [
    "t = num_rx[num_rx>0]\n",
    "plt.plot(t)"
   ]
  },
  {
   "cell_type": "code",
   "execution_count": null,
   "metadata": {},
   "outputs": [],
   "source": [
    "tt = num_c.argsort(kind='stable')\n",
    "np.vstack((tt[-30:], num_c[tt[-30:]]))"
   ]
  },
  {
   "cell_type": "markdown",
   "metadata": {},
   "source": [
    "发现与存在的问题：\n",
    "1. 隐私计算任务在计算期间存在多次的网络传输，且网络传输总量很大（177MB，这才是1000次128bit数据的加密任务），传输分布比较均匀，网络传输在隐私计算任务中很重要\n",
    "2. 计算过程中存在明显的停顿，例如程序启动后一段时间程序执行速度慢，第一次网络传输后，速度就变快了。再如0.3s与0.95s左右的短暂停顿。这说明隐私计算任务的执行速度可能受网络传输影响\n",
    "3. 接受与发送数据的统计信息过于接近了，是不是监听事件名出错了\n",
    "4. 使用本地回环网络，不能确定由于较差网络连接造成的速度减慢\n",
    "5. 尝试采用互相关等简单数学方法探索周期数与传输数据之间的规律，但没有效果，\n",
    "6. 5,浮点数溢出导致互相关无效果，采用修改后的函数，发现任务的传输与计算同时开始\n",
    "7. 根据在情况，隐私子任务模型可能变更，可能修改成网络与计算子任务可并行，但会发生阻塞，也就是DAG任务"
   ]
  },
  {
   "cell_type": "code",
   "execution_count": null,
   "metadata": {},
   "outputs": [],
   "source": [
    "# 2488371.8888550415*22979.0/1e9/max_time\n",
    "# 24015.0*1019769.3227149699/1e9/max_time\n",
    "print(f'time(ms): {max_time/10000*1000}')"
   ]
  },
  {
   "cell_type": "code",
   "execution_count": null,
   "metadata": {},
   "outputs": [],
   "source": [
    "max_time"
   ]
  },
  {
   "cell_type": "code",
   "execution_count": null,
   "metadata": {},
   "outputs": [],
   "source": [
    "data['Instructions'].describe()"
   ]
  },
  {
   "cell_type": "code",
   "execution_count": null,
   "metadata": {},
   "outputs": [],
   "source": [
    "data['Net_dev_xmit'].describe()"
   ]
  },
  {
   "cell_type": "code",
   "execution_count": null,
   "metadata": {},
   "outputs": [],
   "source": [
    "from numpy import gcd\n",
    "from numpy.typing import NDArray\n",
    "from scipy.fft import fft, ifft\n",
    "def _corr(s1: NDArray, s2: NDArray):\n",
    "    # PHAT corr\n",
    "    l1, l2 = len(s1), len(s2)\n",
    "    return np.fft.fftshift(np.abs(ifft(\n",
    "        np.exp(1j*np.angle(fft(s1, l1+l2-1))*np.conj(\n",
    "            np.exp(1j*np.angle(fft(s2, l1+l2-1))))))))"
   ]
  }
 ],
 "metadata": {
  "kernelspec": {
   "display_name": ".venv",
   "language": "python",
   "name": "python3"
  },
  "language_info": {
   "codemirror_mode": {
    "name": "ipython",
    "version": 3
   },
   "file_extension": ".py",
   "mimetype": "text/x-python",
   "name": "python",
   "nbconvert_exporter": "python",
   "pygments_lexer": "ipython3",
   "version": "3.12.6"
  }
 },
 "nbformat": 4,
 "nbformat_minor": 2
}
