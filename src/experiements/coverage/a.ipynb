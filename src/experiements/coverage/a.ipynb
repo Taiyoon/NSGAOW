{
 "cells": [
  {
   "cell_type": "code",
   "execution_count": 8,
   "metadata": {},
   "outputs": [
    {
     "ename": "ImportError",
     "evalue": "attempted relative import with no known parent package",
     "output_type": "error",
     "traceback": [
      "\u001b[1;31m---------------------------------------------------------------------------\u001b[0m",
      "\u001b[1;31mImportError\u001b[0m                               Traceback (most recent call last)",
      "Cell \u001b[1;32mIn[8], line 7\u001b[0m\n\u001b[0;32m      3\u001b[0m \u001b[38;5;28;01mfrom\u001b[39;00m \u001b[38;5;21;01mplatypus\u001b[39;00m\u001b[38;5;21;01m.\u001b[39;00m\u001b[38;5;21;01mio\u001b[39;00m \u001b[38;5;28;01mimport\u001b[39;00m load_json, load_objectives\n\u001b[0;32m      5\u001b[0m \u001b[38;5;28;01mimport\u001b[39;00m \u001b[38;5;21;01mos\u001b[39;00m\n\u001b[1;32m----> 7\u001b[0m \u001b[38;5;28;01mfrom\u001b[39;00m \u001b[38;5;21;01m.\u001b[39;00m\u001b[38;5;21;01m.\u001b[39;00m\u001b[38;5;21;01m.\u001b[39;00m\u001b[38;5;21;01msolver\u001b[39;00m\u001b[38;5;21;01m.\u001b[39;00m\u001b[38;5;21;01mnsgaow\u001b[39;00m \u001b[38;5;28;01mimport\u001b[39;00m Hyb2\n\u001b[0;32m      9\u001b[0m METHOD \u001b[38;5;241m=\u001b[39m \u001b[38;5;124m'\u001b[39m\u001b[38;5;124mNSGAOW\u001b[39m\u001b[38;5;124m'\u001b[39m\n\u001b[0;32m     10\u001b[0m \u001b[38;5;66;03m# PROBLEM = 'Hyb2'\u001b[39;00m\n",
      "\u001b[1;31mImportError\u001b[0m: attempted relative import with no known parent package"
     ]
    }
   ],
   "source": [
    "# plot gd\n",
    "from platypus.indicators import GenerationalDistance\n",
    "from platypus.io import load_json, load_objectives\n",
    "\n",
    "import os\n",
    "\n",
    "from solver.nsgaow import Hyb2\n",
    "\n",
    "METHOD = 'NSGAOW'\n",
    "# PROBLEM = 'Hyb2'\n",
    "problem = Hyb2('../../../config/base.yml')\n",
    "\n",
    "folder_path = f\"../../../results/{METHOD}_Hyb2\"  # 替换为你的文件夹路径\n",
    "ref_set = load_objectives(\"../../../results/Hyb1_10000NFE.pf\", problem)\n",
    "gd = GenerationalDistance(reference_set=ref_set)\n",
    "\n",
    "for root, dirs, files in os.walk(folder_path):\n",
    "    for file in files:\n",
    "        file_path = os.path.join(root, file)  # 文件的完整路径\n",
    "        result = load_json(file_path, problem)\n",
    "        r = gd.calculate(result['population'])\n",
    "        print(r)\n",
    "        \n",
    "        # print(file_path)\n"
   ]
  }
 ],
 "metadata": {
  "kernelspec": {
   "display_name": ".venv",
   "language": "python",
   "name": "python3"
  },
  "language_info": {
   "codemirror_mode": {
    "name": "ipython",
    "version": 3
   },
   "file_extension": ".py",
   "mimetype": "text/x-python",
   "name": "python",
   "nbconvert_exporter": "python",
   "pygments_lexer": "ipython3",
   "version": "3.13.2"
  }
 },
 "nbformat": 4,
 "nbformat_minor": 2
}
