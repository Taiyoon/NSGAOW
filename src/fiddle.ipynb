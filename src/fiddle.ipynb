{
 "cells": [
  {
   "cell_type": "code",
   "execution_count": 1,
   "metadata": {},
   "outputs": [],
   "source": [
    "# import matplotlib.pyplot as plt\n",
    "# import pandas as pd\n",
    "\n",
    "# from log_parser import *\n",
    "# from simenv.world import WorldHybrid\n",
    "\n",
    "\n",
    "# def run(arrival_rate):\n",
    "#     world = WorldHybrid({'stringio'}, arrival_rate)\n",
    "#     world.start()\n",
    "#     return Parser(world.stringio)\n",
    "\n",
    "\n",
    "# def plot(res, ar):\n",
    "#     fig, axs = plt.subplots(1, 2)\n",
    "#     res.boxplot(['finish_time', 'estimate_finish_time'], ax=axs[0])\n",
    "#     res.boxplot(['estimate_error'], ax=axs[1])\n",
    "#     plt.title(f\"submit rate {ar} tasks/s:\")\n",
    "#     plt.show()\n",
    "    \n",
    "# ar = 10.\n",
    "# p = run(ar)\n",
    "# res = p.cooptask_time\n",
    "# plot(res, ar)"
   ]
  },
  {
   "cell_type": "code",
   "execution_count": 2,
   "metadata": {},
   "outputs": [],
   "source": [
    "# from scipy.special import zeta\n",
    "# import numpy as np\n",
    "# import matplotlib.pyplot as plt\n",
    "\n",
    "\n",
    "# a = 1.1\n",
    "# n = 20000\n",
    "# rng = np.random.default_rng()\n",
    "# s = rng.zipf(a, size=n)\n",
    "# s = s[s <= 200]\n",
    "# count = np.bincount(s)\n",
    "# k = np.arange(1, s.max() + 1)\n",
    "# plt.bar(k, count[1:], alpha=0.5, label='sample count')\n",
    "# plt.plot(k, n*(k**-a)/zeta(a), 'k.-', alpha=0.5, label='expected count')\n",
    "# plt.semilogy()\n",
    "# plt.grid(alpha=0.4)\n",
    "# plt.legend()\n",
    "# plt.title(f'Zipf sample, a={a}, size={len(s)}')\n",
    "# plt.show()"
   ]
  },
  {
   "cell_type": "code",
   "execution_count": 3,
   "metadata": {},
   "outputs": [],
   "source": [
    "# from simenv.config_parser import ConfigParser\n",
    "# from simenv.world import WorldHybridOffline\n",
    "\n",
    "# conf = ConfigParser('./config1.yml').config\n",
    "# w = WorldHybridOffline(('stdout'), conf)\n",
    "# print(w)"
   ]
  },
  {
   "cell_type": "markdown",
   "metadata": {},
   "source": [
    "1. 安全性这个指标有点抽象，怎么折腾看起来都不会降太狠，不知为啥"
   ]
  },
  {
   "cell_type": "code",
   "execution_count": null,
   "metadata": {},
   "outputs": [],
   "source": [
    "import numpy\n",
    "import matplotlib.pyplot as plt\n",
    "from solver import nsga2\n",
    "from deap.benchmarks.tools import hypervolume\n",
    "\n",
    "NGEN = 100\n",
    "MU = 100\n",
    "\n",
    "hvref = [2380, 119, 1130]\n",
    "# hvref = [4282, -29, 6387]\n",
    "pop, logbook, encoder = nsga2.main(NGEN=NGEN, MU=MU, hv_ref=hvref, CXPB=0.8, conf_path='../configs/base.yml')\n",
    "\n",
    "print(logbook)\n",
    "pop.sort(key=lambda x: x.fitness.values)\n",
    "\n",
    "front = numpy.array([ind.fitness.values for ind in pop])\n",
    "front[:, 1] = encoder.convert_security_objective(front[:, 1])"
   ]
  },
  {
   "cell_type": "code",
   "execution_count": 5,
   "metadata": {},
   "outputs": [],
   "source": [
    "# from platypus import DTLZ2, NSGAII\n",
    "\n",
    "# # Select the problem\n",
    "# problem = DTLZ2()\n",
    "\n",
    "# # Create the optimization algorithm.\n",
    "# algorithm = NSGAII(problem)\n",
    "\n",
    "# # Optimize the problem using 10,000 function evaluations.\n",
    "# algorithm.run(10000)\n",
    "\n",
    "# # Display the results.\n",
    "# for solution in algorithm.result:\n",
    "#     print(solution.objectives)"
   ]
  },
  {
   "cell_type": "code",
   "execution_count": null,
   "metadata": {},
   "outputs": [],
   "source": [
    "# 使用ScienctPlots包画学位论文，要求图片宽度75mm，标注清晰，并使用svg输出\n",
    "# 格式science + cjk-sc-font\n",
    "import matplotlib.pyplot as plt\n",
    "import scienceplots\n",
    "iteration = []\n",
    "hv = []\n",
    "for rec in logbook:\n",
    "    iteration += [rec['gen']*rec['evals']]\n",
    "    hv += [rec['HV']]\n",
    "\n",
    "\n",
    "# 我们采用函数评估次数作为收敛曲线的横轴（评估次数很多，可以考虑x100缩小）\n",
    "# 使用超体积作为纵轴，超体积越高，代表帕累托前沿的覆盖范围与解的质量越高，我们通过观察超体积的上升速率判断函数收敛\n",
    "plt.plot(iteration, hv)"
   ]
  },
  {
   "cell_type": "code",
   "execution_count": null,
   "metadata": {},
   "outputs": [],
   "source": [
    "import matplotlib.pyplot as plt\n",
    "from mpl_toolkits.mplot3d import Axes3D\n",
    "import numpy as np\n",
    "\n",
    "# 生成示例数据（替换为你的实际数据）\n",
    "# 假设pareto_front是N×3的numpy数组，包含三个目标值\n",
    "\n",
    "# 创建3D绘图画布\n",
    "fig = plt.figure(figsize=(10, 8))\n",
    "ax = fig.add_subplot(111, projection='3d')\n",
    "\n",
    "# 绘制三维散点图\n",
    "scatter = ax.scatter(\n",
    "    front[:, 0],  # X轴：目标1\n",
    "    front[:, 1],  # Y轴：目标2\n",
    "    front[:, 2],  # Z轴：目标3\n",
    "    c=front[:, 0],  # 用Makespan着色\n",
    "    cmap='viridis',\n",
    "    s=50,\n",
    "    alpha=0.7,\n",
    "    edgecolors='w'\n",
    ")\n",
    "\n",
    "# 设置坐标轴标签\n",
    "ax.set_xlabel('Makespan', fontsize=12, labelpad=15)\n",
    "ax.set_ylabel('Security', fontsize=12, labelpad=15)\n",
    "ax.set_zlabel('Cost', fontsize=12, labelpad=15)\n",
    "\n",
    "# 设置视角参数\n",
    "ax.view_init(elev=5, azim=205)  # 仰角25度，方位角45度\n",
    "\n",
    "# 添加颜色条\n",
    "cbar = fig.colorbar(scatter, pad=0.1)\n",
    "cbar.set_label('Objective 3 Value', rotation=270, labelpad=20)\n",
    "\n",
    "# 添加网格和标题\n",
    "ax.grid(True, linestyle='--', alpha=0.5)\n",
    "plt.title(\"3D Pareto Front Visualization\", pad=20, fontsize=14)\n",
    "\n",
    "# 显示图形\n",
    "plt.tight_layout()\n",
    "plt.show()"
   ]
  },
  {
   "cell_type": "code",
   "execution_count": null,
   "metadata": {},
   "outputs": [],
   "source": [
    "# 由Makespan（X）和Security(Y)轴组成的前沿\n",
    "plt.scatter(front[:,0], front[:,1])"
   ]
  },
  {
   "cell_type": "code",
   "execution_count": null,
   "metadata": {},
   "outputs": [],
   "source": [
    "plt.scatter(front[:,0], front[:,2])"
   ]
  },
  {
   "cell_type": "code",
   "execution_count": null,
   "metadata": {},
   "outputs": [],
   "source": [
    "plt.scatter(front[:,1], front[:,2])\n"
   ]
  },
  {
   "cell_type": "code",
   "execution_count": null,
   "metadata": {},
   "outputs": [],
   "source": [
    "# from matplotlib.font_manager import FontProperties\n",
    "# import matplotlib.pyplot as plt\n",
    "# import scienceplots\n",
    "# import numpy as np\n",
    "\n",
    "THESIS_PATH = '../thesis/img/'\n",
    "\n",
    "# plt.style.use(['science', 'cjk-sc-font', 'no-latex'])\n",
    "# # 创建画布 (75mm = 2.95英寸，按4:3比例设置高度)\n",
    "# fig, ax = plt.subplots(figsize=(2.95, 2.95*(3/4)))  # 宽度75mm，高度按3:4比例\n",
    "\n",
    "# font = FontProperties(fname=\"C:/Windows/Fonts/simhei.ttf\", size=12)\n",
    "\n",
    "# # 数据预处理\n",
    "# iteration = [rec['gen']*rec['evals']/100 for rec in logbook]  # 评估次数/100\n",
    "# hv = [rec['HV'] for rec in logbook]\n",
    "\n",
    "# # 绘制收敛曲线\n",
    "# ax.plot(iteration, hv, )\n",
    "\n",
    "\n",
    "# # 坐标轴标注\n",
    "# ax.set_xlabel('函数评估次数 ($\\\\times 10^2$)',)\n",
    "# ax.set_ylabel('超体积 (HV)',)\n",
    "\n",
    "# fig\n",
    "# 保存矢量图\n",
    "# plt.savefig(,\n",
    "#             format='svg',\n",
    "#             dpi=300,\n",
    "#             bbox_inches='tight',\n",
    "#             pad_inches=0.05)\n",
    "\n",
    "from matplotlib.font_manager import FontProperties\n",
    "import matplotlib.pyplot as plt\n",
    "import scienceplots\n",
    "import numpy as np\n",
    "\n",
    "# 修复样式声明中的中文逗号错误\n",
    "plt.style.use(['science', 'cjk-sc-font', 'no-latex', 'ieee'])  # 使用英文逗号\n",
    "\n",
    "# 创建画布 (75mm = 2.95英寸，按4:3比例设置高度)\n",
    "fig, ax = plt.subplots(figsize=(3, 3*(3/4)))  # 宽度75mm，高度按3:4比例\n",
    "\n",
    "# 设置全局字体（推荐使用开源字体）\n",
    "font = FontProperties(fname=\"C:/Windows/Fonts/STSONG.TTF\")  # 黑体常规\n",
    "\n",
    "# 数据预处理\n",
    "iteration = [rec['gen']*rec['evals']/100 for rec in logbook]  # 评估次数/100\n",
    "hv = [rec['HV'] for rec in logbook]\n",
    "\n",
    "# 绘制收敛曲线（添加label参数）\n",
    "ax.plot(iteration, hv, \n",
    "        color='#2C73D2', \n",
    "        linewidth=0.8,\n",
    "        # marker='o',\n",
    "        # markersize=3,\n",
    "        # markevery=5,\n",
    "        label='NSGAII')  # 新增label参数\n",
    "\n",
    "# 坐标轴标注（设置字体属性）\n",
    "ax.set_xlabel('函数评估次数 ($\\\\times 10^2$)', \n",
    "           fontproperties=font, \n",
    "           fontsize=8, \n",
    "           labelpad=2)\n",
    "ax.set_ylabel('超体积 (HV)', \n",
    "           fontproperties=font, \n",
    "           fontsize=8, \n",
    "           labelpad=2)\n",
    "\n",
    "# 添加图例（设置中文字体）\n",
    "legend = ax.legend(prop=font,          # 应用中文字体\n",
    "                #  loc='lower right',   # 右上角定位\n",
    "                #  frameon=True,        # 显示边框\n",
    "                #  borderpad=0.4,       # 边框内边距\n",
    "                #  handlelength=1.5,    # 图例句柄长度\n",
    "                 fontsize=7)          # 字体大小\n",
    "\n",
    "# 设置图例边框样式\n",
    "legend.get_frame().set_linewidth(0.5)  # 边框线宽\n",
    "legend.get_frame().set_edgecolor('#333333')  # 边框颜色\n",
    "\n",
    "# 设置刻度字体\n",
    "for label in ax.get_xticklabels() + ax.get_yticklabels():\n",
    "    label.set_fontproperties(font)\n",
    "    label.set_fontsize(7)\n",
    "\n",
    "# 保存输出\n",
    "# plt.savefig(THESIS_PATH+'hv.pdf', format='pdf', dpi=300, bbox_inches='tight')\n",
    "# plt.close()\n",
    "\n",
    "fig\n"
   ]
  },
  {
   "cell_type": "code",
   "execution_count": null,
   "metadata": {},
   "outputs": [],
   "source": [
    "np.argmin(list(map(lambda x: x.fitness.values[1], pop)), axis=0)"
   ]
  },
  {
   "cell_type": "code",
   "execution_count": null,
   "metadata": {},
   "outputs": [],
   "source": [
    "pop[np.argmin(list(map(lambda x: x.fitness.values[1], pop)), axis=0)].fitness.values\n"
   ]
  },
  {
   "cell_type": "code",
   "execution_count": null,
   "metadata": {},
   "outputs": [],
   "source": [
    "pop[np.argmax(list(map(lambda x: x.fitness.values[1], pop)), axis=0)].fitness.values"
   ]
  },
  {
   "cell_type": "code",
   "execution_count": null,
   "metadata": {},
   "outputs": [],
   "source": [
    "encoder.print_time(pop[np.argmin(list(map(lambda x: x.fitness.values[1], pop)), axis=0)])\n"
   ]
  },
  {
   "cell_type": "code",
   "execution_count": null,
   "metadata": {},
   "outputs": [],
   "source": [
    "encoder.print_time(pop[np.argmax(list(map(lambda x: x.fitness.values[1], pop)), axis=0)])"
   ]
  },
  {
   "cell_type": "code",
   "execution_count": 17,
   "metadata": {},
   "outputs": [],
   "source": [
    "l = [r.is_coop for r in encoder.decode_sequence(pop[np.argmax(list(map(lambda x: x.fitness.values[1], pop)))])[0]]"
   ]
  }
 ],
 "metadata": {
  "kernelspec": {
   "display_name": ".venv",
   "language": "python",
   "name": "python3"
  },
  "language_info": {
   "codemirror_mode": {
    "name": "ipython",
    "version": 3
   },
   "file_extension": ".py",
   "mimetype": "text/x-python",
   "name": "python",
   "nbconvert_exporter": "python",
   "pygments_lexer": "ipython3",
   "version": "3.13.1"
  }
 },
 "nbformat": 4,
 "nbformat_minor": 2
}
